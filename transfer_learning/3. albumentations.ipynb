{
  "cells": [
    {
      "cell_type": "markdown",
      "id": "6649fc9d8b51ad58",
      "metadata": {
        "collapsed": false,
        "id": "6649fc9d8b51ad58"
      },
      "source": [
        "## 1. 샘플 이미지 데이터 불러오기"
      ]
    },
    {
      "cell_type": "code",
      "execution_count": null,
      "id": "0f749e7c",
      "metadata": {
        "id": "0f749e7c"
      },
      "outputs": [],
      "source": [
        "from glob import glob\n",
        "from PIL import Image\n",
        "import random\n",
        "\n",
        "data_root = './cats_vs_dogs_small/'\n",
        "filepath_list = list(glob(f\"{data_root}/**/**/*.jpg\"))\n",
        "random.shuffle(filepath_list)\n",
        "\n",
        "image_list = []\n",
        "for idx in range(3):\n",
        "    image_list.append(Image.open(filepath_list[idx]))"
      ]
    },
    {
      "cell_type": "code",
      "execution_count": null,
      "id": "f9169cd9",
      "metadata": {
        "id": "f9169cd9"
      },
      "outputs": [],
      "source": [
        "image_list[0]"
      ]
    },
    {
      "cell_type": "markdown",
      "id": "62e6b159",
      "metadata": {
        "id": "62e6b159"
      },
      "source": [
        "# 2. Albumentations 라이브러리 설치\n",
        "- [Document 링크](https://albumentations.ai/) </br>\n",
        "- API Reference 접근 </br>\n",
        "    - 예시 코드: [링크](https://albumentations.ai/docs/examples/example/)\n",
        "    - 클래스 명세서 : Document 탭 >> API Reference >> `Augmentations` >> `... transforms`"
      ]
    },
    {
      "cell_type": "code",
      "execution_count": null,
      "id": "1d35dac9",
      "metadata": {
        "id": "1d35dac9"
      },
      "outputs": [],
      "source": [
        "!pip install albumentations"
      ]
    },
    {
      "cell_type": "markdown",
      "id": "9cc29048",
      "metadata": {
        "id": "9cc29048"
      },
      "source": [
        "# 3. 이미지 변환 테스트"
      ]
    },
    {
      "cell_type": "code",
      "execution_count": null,
      "id": "f3075ad5",
      "metadata": {
        "id": "f3075ad5"
      },
      "outputs": [],
      "source": [
        "import matplotlib.pyplot as plt\n",
        "'''\n",
        "    이미지 시각화 함수를 정의한다.\n",
        "'''\n",
        "\n",
        "def visualize_images(image1, image2):\n",
        "    '''\n",
        "        :param images: cv2(ndarray) 이미지 리스트\n",
        "        :param classes: 클래스 리스트\n",
        "        :return: None\n",
        "    '''\n",
        "    # 4x2의 그리드 생성 (바둑판 이미지 틀 생성)\n",
        "    fig, axs = plt.subplots(1, 2)\n",
        "    axs[0].imshow(image1)\n",
        "    axs[0].set_title('original')\n",
        "\n",
        "    axs[1].imshow(image2)\n",
        "    axs[1].set_title('transformed')\n",
        "\n",
        "    plt.tight_layout()\n",
        "    plt.show()\n",
        "\n"
      ]
    },
    {
      "cell_type": "code",
      "execution_count": null,
      "id": "7aa2cd8a",
      "metadata": {
        "id": "7aa2cd8a"
      },
      "outputs": [],
      "source": [
        "import albumentations as A\n",
        "import numpy as np\n",
        "\n",
        "sample_image = image_list[0]"
      ]
    },
    {
      "cell_type": "code",
      "execution_count": null,
      "id": "2dae5d93",
      "metadata": {
        "id": "2dae5d93"
      },
      "outputs": [],
      "source": [
        "'''\n",
        "    좌우 반전 테스트\n",
        "'''\n",
        "transform = A.HorizontalFlip(p=1.0)\n",
        "transformed_image = transform(image=np.array(sample_image))['image']\n",
        "visualize_images(sample_image, transformed_image)"
      ]
    },
    {
      "cell_type": "code",
      "execution_count": null,
      "id": "0d839163",
      "metadata": {
        "id": "0d839163"
      },
      "outputs": [],
      "source": [
        "'''\n",
        "    형태 변환 테스트\n",
        "'''\n",
        "# transform = A.ShiftScaleRotate(p=0.5, border_mode=0)\n",
        "# transform = A.OpticalDistortion(p=1.0, distort_limit=1.0)\n",
        "transform = A.GridDistortion(p=1.0)\n",
        "transformed_image = transform(image=np.array(sample_image))['image']\n",
        "visualize_images(sample_image, transformed_image)"
      ]
    },
    {
      "cell_type": "code",
      "execution_count": null,
      "id": "6af31cd8",
      "metadata": {
        "id": "6af31cd8"
      },
      "outputs": [],
      "source": [
        "'''\n",
        "    Blur 테스트\n",
        "'''\n",
        "transform = A.MotionBlur(p=1.0, blur_limit=(3, 5))\n",
        "# transform = A.Blur(p=1.0, blur_limit=(3, 5))\n",
        "transformed_image = transform(image=np.array(sample_image))['image']\n",
        "visualize_images(sample_image, transformed_image)"
      ]
    },
    {
      "cell_type": "code",
      "execution_count": null,
      "id": "484aeb44",
      "metadata": {
        "id": "484aeb44"
      },
      "outputs": [],
      "source": [
        "'''\n",
        "    픽셀 값 변환\n",
        "'''\n",
        "# transform = A.CLAHE(p=1.0)\n",
        "# transform = A.ChannelShuffle(p=1.0)\n",
        "transform = A.ColorJitter(p=1.0)\n",
        "transformed_image = transform(image=np.array(sample_image))['image']\n",
        "visualize_images(sample_image, transformed_image)\n"
      ]
    },
    {
      "cell_type": "code",
      "execution_count": null,
      "id": "651a93be",
      "metadata": {
        "id": "651a93be"
      },
      "outputs": [],
      "source": [
        "'''\n",
        "    Dropout 테스트\n",
        "'''\n",
        "transform = A.ChannelDropout(p=1.0)\n",
        "transformed_image = transform(image=np.array(sample_image))['image']\n",
        "visualize_images(sample_image, transformed_image)"
      ]
    },
    {
      "cell_type": "code",
      "execution_count": null,
      "id": "72c1f839",
      "metadata": {
        "id": "72c1f839"
      },
      "outputs": [],
      "source": [
        "'''\n",
        "    여러 transform 모듈을 하나로 합친다.\n",
        "'''\n",
        "from albumentations.pytorch import ToTensorV2\n",
        "\n",
        "transform = A.Compose([\n",
        "    A.CLAHE(p=0.5),\n",
        "    A.Blur(p=0.5),\n",
        "    A.ShiftScaleRotate(p=0.5, border_mode=0),\n",
        "    A.OpticalDistortion(),\n",
        "    A.GridDistortion(),\n",
        "    A.HueSaturationValue(),\n",
        "    A.Resize(height=224, width=224),\n",
        "    # A.Normalize(p=1.0, mean=(0.485, 0.456, 0.406), std=(0.229, 0.224, 0.225)), ## 이미지 픽셀 값 정규화\n",
        "    # ToTensorV2() ## 모델에 입력할 때 사용\n",
        "])\n",
        "random.seed(42)\n",
        "\n",
        "## Dataset 클래스에서 transform을 적용할 때 아래와 같은 코드로 변경 해야함\n",
        "transformed_image = transform(image=np.array(sample_image))['image']\n",
        "\n",
        "'''\n",
        "    A.Normalize와 ToTensorV2를 적용했을 경우 아래의 시각화가 되지 않음.\n",
        "'''\n",
        "visualize_images(sample_image, transformed_image)"
      ]
    },
    {
      "cell_type": "markdown",
      "id": "f552d4dc",
      "metadata": {
        "id": "f552d4dc"
      },
      "source": [
        "# 4. 이미지 역변환 (역정규화))"
      ]
    },
    {
      "cell_type": "code",
      "execution_count": null,
      "id": "c5763da2",
      "metadata": {
        "id": "c5763da2"
      },
      "outputs": [],
      "source": [
        "'''\n",
        "    변환된 이미지 픽셀 값 확인\n",
        "'''\n",
        "transformed_image"
      ]
    },
    {
      "cell_type": "code",
      "execution_count": null,
      "id": "424677aa",
      "metadata": {
        "id": "424677aa"
      },
      "outputs": [],
      "source": [
        "import torch\n",
        "from torchvision.transforms.functional import to_pil_image\n",
        "\n",
        "def denormalize(tensor, mean, std):\n",
        "    '''\n",
        "        텐서를 역정규화 한다.\n",
        "    '''\n",
        "    mean = torch.tensor(mean).reshape(-1, 1, 1)\n",
        "    std = torch.tensor(std).reshape(-1, 1, 1)\n",
        "\n",
        "    # 역정규화 수행\n",
        "    tensor = tensor * std + mean\n",
        "\n",
        "    # 텐서의 값 범위를 0과 1 사이로 조정합니다.\n",
        "    tensor = torch.clamp(tensor, 0, 1)\n",
        "\n",
        "    return tensor\n",
        "\n",
        "\n",
        "\n",
        "\n",
        "\n",
        "\n",
        "def tensor_to_pil(tensor, mean=(0.485, 0.456, 0.406), std=(0.229, 0.224, 0.225)):\n",
        "    '''\n",
        "        정규화된 텐서를 Pillow 이미지로 변환한다.\n",
        "    '''\n",
        "    # 역정규화\n",
        "    tensor = denormalize(tensor, mean, std)\n",
        "\n",
        "    # 텐서를 Pillow 이미지로 변환한다.\n",
        "    pil_image = to_pil_image(tensor)\n",
        "\n",
        "    return pil_image\n",
        "\n",
        "\n"
      ]
    },
    {
      "cell_type": "code",
      "source": [
        "'''\n",
        "    역정규화 한 이미지를 확인한다.\n",
        "'''\n",
        "\n",
        "from albumentations.pytorch import ToTensorV2\n",
        "import albumentations as A\n",
        "\n",
        "normalize_mean = (0.485, 0.456, 0.406)\n",
        "normalize_std  = (0.229, 0.224, 0.225)\n",
        "\n",
        "transform = A.Compose([\n",
        "    A.Resize(224, 224),\n",
        "    A.Normalize(mean=normalize_mean, std=normalize_std),\n",
        "    ToTensorV2()\n",
        "])\n",
        "\n",
        "out = transform(image=np.array(sample_image))['image']   # torch.Tensor, 0~1 정규화\n",
        "recover = denormalize(out, normalize_mean, normalize_std)  # 여기서만 denormalize\n",
        "img_pil = to_pil_image(recover)\n",
        "visualize_images(np.array(sample_image), np.array(img_pil))\n"
      ],
      "metadata": {
        "id": "uDXrX2eJFKiU"
      },
      "id": "uDXrX2eJFKiU",
      "execution_count": null,
      "outputs": []
    },
    {
      "cell_type": "code",
      "source": [],
      "metadata": {
        "id": "ZayxJUz3GTdI"
      },
      "id": "ZayxJUz3GTdI",
      "execution_count": null,
      "outputs": []
    }
  ],
  "metadata": {
    "kernelspec": {
      "display_name": "Python 3 (ipykernel)",
      "language": "python",
      "name": "python3"
    },
    "language_info": {
      "codemirror_mode": {
        "name": "ipython",
        "version": 3
      },
      "file_extension": ".py",
      "mimetype": "text/x-python",
      "name": "python",
      "nbconvert_exporter": "python",
      "pygments_lexer": "ipython3",
      "version": "3.10.13"
    },
    "colab": {
      "provenance": []
    }
  },
  "nbformat": 4,
  "nbformat_minor": 5
}