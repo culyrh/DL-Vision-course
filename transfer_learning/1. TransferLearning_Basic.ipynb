{
  "nbformat": 4,
  "nbformat_minor": 0,
  "metadata": {
    "colab": {
      "provenance": []
    },
    "kernelspec": {
      "name": "python3",
      "display_name": "Python 3"
    },
    "language_info": {
      "name": "python"
    }
  },
  "cells": [
    {
      "cell_type": "code",
      "source": [
        "import torch\n",
        "from torchvision import models\n",
        "\n",
        "pretrained_model = models.vgg16(weights=models.VGG16_Weights.DEFAULT)\n",
        "\n",
        "print(pretrained_model)"
      ],
      "metadata": {
        "id": "looRHCoT-9M7"
      },
      "execution_count": null,
      "outputs": []
    },
    {
      "cell_type": "code",
      "source": [
        "class MyTransferLearningModel(torch.nn.Module):\n",
        "\n",
        "    def __init__(self, pretrained_model, feature_extractor):\n",
        "        super().__init__()\n",
        "\n",
        "        if (feature_extractor):\n",
        "            for param in pretrained_model.parameters():\n",
        "                param.require_grad = False\n",
        "\n",
        "        pretrained_model.classifier = torch.nn.Sequential(\n",
        "            torch.nn.Linear(pretrained_model.classifier[0].in_features, 128),\n",
        "            torch.nn.Linear(128, 2)\n",
        "        )\n",
        "\n",
        "        self.model = pretrained_model\n",
        "\n",
        "    def forward(self, data):\n",
        "        logits = self.model(data)\n",
        "        return logits"
      ],
      "metadata": {
        "id": "933p5o9nYC_p"
      },
      "execution_count": null,
      "outputs": []
    },
    {
      "cell_type": "code",
      "source": [
        "feature_extractor = True  # True: Feature Extractor,  False: Fine Tuning\n",
        "\n",
        "model = MyTransferLearningModel(pretrained_model, feature_extractor)\n",
        "\n",
        "optimizer = torch.optim.Adam(model.parameters(), lr = 1e-6)\n",
        "\n",
        "loss_function = torch.nn.CrossEntropyLoss()"
      ],
      "metadata": {
        "id": "6VHqTbytcwCA"
      },
      "execution_count": null,
      "outputs": []
    },
    {
      "cell_type": "code",
      "source": [
        "print(model)"
      ],
      "metadata": {
        "id": "SKvvjoqcRkBb"
      },
      "execution_count": null,
      "outputs": []
    },
    {
      "cell_type": "code",
      "source": [],
      "metadata": {
        "id": "h2ReUfXhb6BL"
      },
      "execution_count": null,
      "outputs": []
    }
  ]
}